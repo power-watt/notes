{
 "cells": [
  {
   "cell_type": "markdown",
   "metadata": {},
   "source": [
    "# Example comparing generators and functions\n",
    "You can learn more about generators on [Stack Overflow](https://stackoverflow.com/questions/231767/what-does-the-yield-keyword-do)"
   ]
  },
  {
   "cell_type": "code",
   "execution_count": 1,
   "metadata": {},
   "outputs": [],
   "source": [
    "import datetime\n",
    "import time"
   ]
  },
  {
   "cell_type": "markdown",
   "metadata": {},
   "source": [
    "## Generator"
   ]
  },
  {
   "cell_type": "code",
   "execution_count": 2,
   "metadata": {},
   "outputs": [
    {
     "name": "stdout",
     "output_type": "stream",
     "text": [
      "2018-04-17 22:26:43.728833\n",
      "From generator \t 2018-04-17 22:26:43.728833\n",
      "2018-04-17 22:26:43.728833\n",
      "Delay\n",
      "2018-04-17 22:26:44.730254\n",
      "From generator \t 2018-04-17 22:26:44.730254\n",
      "2018-04-17 22:26:44.730254\n",
      "Delay\n",
      "2018-04-17 22:26:45.738095\n",
      "From generator \t 2018-04-17 22:26:45.738095\n",
      "2018-04-17 22:26:45.738095\n",
      "Delay\n",
      "2018-04-17 22:26:46.743009\n",
      "From generator \t 2018-04-17 22:26:46.743009\n",
      "2018-04-17 22:26:46.743009\n",
      "Delay\n"
     ]
    }
   ],
   "source": [
    "def generator(n):\n",
    "    for i in range(n):\n",
    "        yield datetime.datetime.now()\n",
    "\n",
    "for i in generator(4):\n",
    "    print(datetime.datetime.now())\n",
    "    print('From generator \\t {}'.format(i))\n",
    "    print(datetime.datetime.now())\n",
    "    print('Delay')\n",
    "    time.sleep(1)"
   ]
  },
  {
   "cell_type": "markdown",
   "metadata": {},
   "source": [
    "You can iterate through the values as they are generated."
   ]
  },
  {
   "cell_type": "markdown",
   "metadata": {},
   "source": [
    "## Function"
   ]
  },
  {
   "cell_type": "code",
   "execution_count": 3,
   "metadata": {},
   "outputs": [
    {
     "name": "stdout",
     "output_type": "stream",
     "text": [
      "2018-04-17 22:26:47.800917\n",
      "From function \t 2018-04-17 22:26:47.800917\n",
      "2018-04-17 22:26:47.800917\n",
      "Delay\n",
      "2018-04-17 22:26:48.802379\n",
      "From function \t 2018-04-17 22:26:47.800917\n",
      "2018-04-17 22:26:48.802379\n",
      "Delay\n",
      "2018-04-17 22:26:49.817004\n",
      "From function \t 2018-04-17 22:26:47.800917\n",
      "2018-04-17 22:26:49.817004\n",
      "Delay\n",
      "2018-04-17 22:26:50.818622\n",
      "From function \t 2018-04-17 22:26:47.800917\n",
      "2018-04-17 22:26:50.818622\n",
      "Delay\n"
     ]
    }
   ],
   "source": [
    "def function(n):\n",
    "    l = []\n",
    "    for i in range(n):\n",
    "        l.append(datetime.datetime.now())\n",
    "    return l\n",
    "\n",
    "for i in function(4):\n",
    "    print(datetime.datetime.now())\n",
    "    print('From function \\t {}'.format(i))\n",
    "    print(datetime.datetime.now())\n",
    "    print('Delay')\n",
    "    time.sleep(1)"
   ]
  },
  {
   "cell_type": "markdown",
   "metadata": {},
   "source": [
    "The function must build and return a list before you can start iterating through it."
   ]
  },
  {
   "cell_type": "code",
   "execution_count": null,
   "metadata": {},
   "outputs": [],
   "source": []
  }
 ],
 "metadata": {
  "kernelspec": {
   "display_name": "Python [Root]",
   "language": "python",
   "name": "Python [Root]"
  },
  "language_info": {
   "codemirror_mode": {
    "name": "ipython",
    "version": 3
   },
   "file_extension": ".py",
   "mimetype": "text/x-python",
   "name": "python",
   "nbconvert_exporter": "python",
   "pygments_lexer": "ipython3",
   "version": "3.5.3"
  }
 },
 "nbformat": 4,
 "nbformat_minor": 2
}
